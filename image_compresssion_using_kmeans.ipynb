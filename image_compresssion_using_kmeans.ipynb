{
  "nbformat": 4,
  "nbformat_minor": 0,
  "metadata": {
    "colab": {
      "name": "image compresssion using kmeans",
      "provenance": [],
      "collapsed_sections": [],
      "authorship_tag": "ABX9TyMCgwyOApiN+mrvf53asHjh",
      "include_colab_link": true
    },
    "kernelspec": {
      "name": "python3",
      "display_name": "Python 3"
    }
  },
  "cells": [
    {
      "cell_type": "markdown",
      "metadata": {
        "id": "view-in-github",
        "colab_type": "text"
      },
      "source": [
        "<a href=\"https://colab.research.google.com/github/saihaneesh26/ML-projects/blob/main/image_compresssion_using_kmeans.ipynb\" target=\"_parent\"><img src=\"https://colab.research.google.com/assets/colab-badge.svg\" alt=\"Open In Colab\"/></a>"
      ]
    },
    {
      "cell_type": "code",
      "metadata": {
        "id": "V6IbdlPfA7nk"
      },
      "source": [
        "#import libraries\n",
        "from skimage import io\n",
        "from sklearn.cluster import KMeans \n",
        "import numpy as np"
      ],
      "execution_count": 1,
      "outputs": []
    },
    {
      "cell_type": "code",
      "metadata": {
        "id": "xd-V7I3CBOrk"
      },
      "source": [
        "#sample image\n",
        "image=io.imread('<path>')\n",
        "io.imshow(image)\n",
        "io.show()"
      ],
      "execution_count": null,
      "outputs": []
    },
    {
      "cell_type": "code",
      "metadata": {
        "id": "DsjOpf-DCNnZ",
        "colab": {
          "base_uri": "https://localhost:8080/"
        },
        "outputId": "b621e34e-e915-4549-9f3d-3f28f9164a58"
      },
      "source": [
        "rows=image.shape[0]\n",
        "cols=image.shape[1]\n",
        "rows,cols\n"
      ],
      "execution_count": 3,
      "outputs": [
        {
          "output_type": "execute_result",
          "data": {
            "text/plain": [
              "(3347, 4549)"
            ]
          },
          "metadata": {
            "tags": []
          },
          "execution_count": 3
        }
      ]
    },
    {
      "cell_type": "code",
      "metadata": {
        "id": "ny6pmbpjCXxC",
        "colab": {
          "base_uri": "https://localhost:8080/"
        },
        "outputId": "d96c6f55-e117-44c7-b46d-fd28992b8323"
      },
      "source": [
        "image=image.reshape(rows*cols,3)\n",
        "print(image.shape)"
      ],
      "execution_count": 4,
      "outputs": [
        {
          "output_type": "stream",
          "text": [
            "(15225503, 3)\n"
          ],
          "name": "stdout"
        }
      ]
    },
    {
      "cell_type": "code",
      "metadata": {
        "id": "G9D79P3-CecF"
      },
      "source": [
        "#create a cluster of 8 blobs\n",
        "kmeans=KMeans(n_clusters=8)\n",
        "kmeans.fit(image)"
      ],
      "execution_count": null,
      "outputs": []
    },
    {
      "cell_type": "code",
      "metadata": {
        "id": "oDHrqd1gCuXE"
      },
      "source": [
        "compressed_image=kmeans.cluster_centers_[kmeans.labels_]\n",
        "compressed_image = np.clip(compressed_image.astype('uint8'), 0, 255)"
      ],
      "execution_count": null,
      "outputs": []
    },
    {
      "cell_type": "code",
      "metadata": {
        "id": "OYzwa7-UDAMj"
      },
      "source": [
        "compressed_image = compressed_image.reshape(rows, cols, 3)\n",
        "io.imshow(compressed_image)\n",
        "io.show()"
      ],
      "execution_count": null,
      "outputs": []
    }
  ]
}