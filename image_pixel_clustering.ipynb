{
  "nbformat": 4,
  "nbformat_minor": 0,
  "metadata": {
    "colab": {
      "name": "image_pixel_clustering.ipynb",
      "provenance": [],
      "collapsed_sections": [],
      "authorship_tag": "ABX9TyMvRFF2JynsKj5GVqZUulTk",
      "include_colab_link": true
    },
    "kernelspec": {
      "name": "python3",
      "display_name": "Python 3"
    },
    "language_info": {
      "name": "python"
    },
    "accelerator": "GPU"
  },
  "cells": [
    {
      "cell_type": "markdown",
      "metadata": {
        "id": "view-in-github",
        "colab_type": "text"
      },
      "source": [
        "<a href=\"https://colab.research.google.com/github/saihaneesh26/ML-projects/blob/main/image_pixel_clustering.ipynb\" target=\"_parent\"><img src=\"https://colab.research.google.com/assets/colab-badge.svg\" alt=\"Open In Colab\"/></a>"
      ]
    },
    {
      "cell_type": "code",
      "metadata": {
        "id": "Gv1npdK0HaTD"
      },
      "source": [
        "import numpy as np\n",
        "from sklearn.cluster import KMeans\n",
        "from skimage import io"
      ],
      "execution_count": 1,
      "outputs": []
    },
    {
      "cell_type": "code",
      "metadata": {
        "id": "LvhDJJsESosk"
      },
      "source": [
        "image=io.imread('PATH')"
      ],
      "execution_count": 2,
      "outputs": []
    },
    {
      "cell_type": "code",
      "metadata": {
        "id": "Y7M6twJZE1HN"
      },
      "source": [
        "io.imshow(image)"
      ],
      "execution_count": null,
      "outputs": []
    },
    {
      "cell_type": "code",
      "metadata": {
        "id": "NvRGwr63FkyJ"
      },
      "source": [
        "row=image.shape[0]\n",
        "col=image.shape[1]\n",
        "ar=image.reshape(row*col,3)\n",
        "ar"
      ],
      "execution_count": null,
      "outputs": []
    },
    {
      "cell_type": "code",
      "metadata": {
        "id": "IMpmSr32H5So"
      },
      "source": [
        "kmeans = KMeans(n_clusters=8, random_state=0).fit(ar)"
      ],
      "execution_count": 5,
      "outputs": []
    },
    {
      "cell_type": "code",
      "metadata": {
        "id": "kBTrD5WTG1hw"
      },
      "source": [
        "compressed_image=kmeans.cluster_centers_[kmeans.labels_]\n",
        "compressed_image = np.clip(compressed_image.astype('uint8'), 0, 255)"
      ],
      "execution_count": 17,
      "outputs": []
    },
    {
      "cell_type": "code",
      "metadata": {
        "id": "SpqtA5yPIYLZ"
      },
      "source": [
        "compressed_image=compressed_image.reshape(row,col,3)"
      ],
      "execution_count": 18,
      "outputs": []
    },
    {
      "cell_type": "code",
      "metadata": {
        "id": "IcNF4KhkJFpQ"
      },
      "source": [
        "io.imshow(compressed_image)"
      ],
      "execution_count": null,
      "outputs": []
    },
    {
      "cell_type": "code",
      "metadata": {
        "id": "PkJu-H9hHJhx"
      },
      "source": [
        ""
      ],
      "execution_count": null,
      "outputs": []
    }
  ]
}